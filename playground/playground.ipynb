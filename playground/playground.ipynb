{
 "cells": [
  {
   "cell_type": "markdown",
   "metadata": {
    "pycharm": {
     "name": "#%% md\n"
    }
   },
   "source": [
    "# Generate ResNet18 Kermany Pretrained"
   ]
  },
  {
   "cell_type": "markdown",
   "metadata": {
    "pycharm": {
     "name": "#%% md\n"
    }
   },
   "source": [
    "## Init"
   ]
  },
  {
   "cell_type": "code",
   "execution_count": 1,
   "metadata": {
    "pycharm": {
     "is_executing": true,
     "name": "#%% Init\n"
    }
   },
   "outputs": [
    {
     "name": "stderr",
     "output_type": "stream",
     "text": [
      "\u001B[34m\u001B[1mwandb\u001B[0m: Currently logged in as: \u001B[33msgvdan\u001B[0m (use `wandb login --relogin` to force relogin)\n"
     ]
    },
    {
     "data": {
      "text/html": [
       "\n",
       "                    Syncing run <strong><a href=\"https://wandb.ai/sgvdan/sliver_net-playground/runs/1y0tcvc8\" target=\"_blank\">polar-flower-34</a></strong> to <a href=\"https://wandb.ai/sgvdan/sliver_net-playground\" target=\"_blank\">Weights & Biases</a> (<a href=\"https://docs.wandb.com/integrations/jupyter.html\" target=\"_blank\">docs</a>).<br/>\n",
       "\n",
       "                "
      ],
      "text/plain": [
       "<IPython.core.display.HTML object>"
      ]
     },
     "metadata": {},
     "output_type": "display_data"
    }
   ],
   "source": [
    "# Auto reload\n",
    "%load_ext autoreload\n",
    "%autoreload 2\n",
    "\n",
    "import torch\n",
    "from kermany_data import KermanyDataset\n",
    "import torchvision\n",
    "from train import train, train_loop\n",
    "import wandb\n",
    "from sliver_net.data import build_volume_cache, E2ETileDataset\n",
    "\n",
    "wandb.login()\n",
    "wandb.init()\n",
    "\n",
    "resize_transform = torchvision.transforms.Resize((256, 256))\n",
    "\n",
    "resnet18 = torchvision.models.resnet18(num_classes=4, pretrained=False).cuda()\n",
    "\n",
    "criterion = torch.nn.functional.cross_entropy\n",
    "optimizer = torch.optim.Adam(resnet18.parameters(), lr=1e-4)"
   ]
  },
  {
   "cell_type": "markdown",
   "metadata": {},
   "source": [
    "## Train on Kermany"
   ]
  },
  {
   "cell_type": "code",
   "execution_count": 2,
   "metadata": {
    "pycharm": {
     "name": "#%%\n"
    }
   },
   "outputs": [
    {
     "name": "stderr",
     "output_type": "stream",
     "text": [
      "100%|██████████| 7/7 [55:10<00:00, 472.86s/it]\n"
     ]
    },
    {
     "name": "stdout",
     "output_type": "stream",
     "text": [
      "Done Training.\n"
     ]
    }
   ],
   "source": [
    "val_dataset = KermanyDataset('./kermany/val', transform=resize_transform)  # (https://www.kaggle.com/paultimothymooney/kermany2018)\n",
    "val_loader = torch.utils.data.DataLoader(dataset=val_dataset, batch_size=64, shuffle=True)\n",
    "\n",
    "train_dataset = KermanyDataset('./kermany/train', transform=resize_transform)\n",
    "train_loader = torch.utils.data.DataLoader(dataset=train_dataset, batch_size=64, shuffle=True)\n",
    "\n",
    "train(resnet18, criterion, optimizer, train_loader, val_loader, 7, 'cuda', 'ResNet18-Kermany')\n",
    "\n",
    "# Save temporarily, so that the model won't disappear\n",
    "tmp_model_name = './tmp_model.pth'\n",
    "torch.save({\"model_state_dict\": resnet18.state_dict(),\n",
    "            \"optimizer_state_dict\": optimizer.state_dict()\n",
    "            }, tmp_model_name)\n",
    "\n",
    "print('Done Training.')"
   ]
  },
  {
   "cell_type": "markdown",
   "metadata": {},
   "source": [
    "## Evaluate on Kermany"
   ]
  },
  {
   "cell_type": "code",
   "execution_count": 3,
   "metadata": {
    "pycharm": {
     "name": "#%%\n"
    }
   },
   "outputs": [
    {
     "name": "stdout",
     "output_type": "stream",
     "text": [
      "Test/accuracy: 0.98\n"
     ]
    }
   ],
   "source": [
    "model_path = './tmp_model.pth' #input(\"Model to load?:\")\n",
    "states_dict = torch.load(model_path)\n",
    "\n",
    "resnet18.load_state_dict(states_dict['model_state_dict'])\n",
    "optimizer.load_state_dict(states_dict['optimizer_state_dict'])\n",
    "\n",
    "test_dataset = KermanyDataset('./kermany/test', transform=resize_transform)\n",
    "test_loader = torch.utils.data.DataLoader(dataset=test_dataset, batch_size=64, shuffle=True)\n",
    "\n",
    "running_test_accuracy = 0.0\n",
    "for test_images, test_labels in test_loader:\n",
    "    # test accuracy of batch\n",
    "    _, accuracy = train_loop(model=resnet18, criterion=criterion, optimizer=optimizer,\n",
    "                             device='cuda', images=test_images, labels=test_labels, mode='eval')\n",
    "    running_test_accuracy += accuracy\n",
    "\n",
    "test_accuracy = round(running_test_accuracy/len(test_loader), 2)\n",
    "print(\"Test/accuracy: {}\".format(test_accuracy))\n",
    "wandb.log({'Kermany2D/Test/accuracy': test_accuracy})"
   ]
  },
  {
   "cell_type": "markdown",
   "metadata": {
    "pycharm": {
     "name": "#%% md\n"
    }
   },
   "source": [
    "# Fine-tune on OUR Dataset"
   ]
  },
  {
   "cell_type": "markdown",
   "metadata": {
    "pycharm": {
     "name": "#%% md\n"
    }
   },
   "source": [
    "## Build tile dataset"
   ]
  },
  {
   "cell_type": "code",
   "execution_count": 4,
   "metadata": {
    "pycharm": {
     "name": "#%% Build tile dataset\n"
    }
   },
   "outputs": [
    {
     "name": "stdout",
     "output_type": "stream",
     "text": [
      "Loaded tile dataset.\n"
     ]
    }
   ],
   "source": [
    "from playground.cache import Cache\n",
    "from sliver_net.data import build_volume_cache\n",
    "\n",
    "LABELS = {'HEALTHY': torch.nn.functional.one_hot(torch.tensor(0), 2), 'SICK': torch.nn.functional.one_hot(torch.tensor(1), 2)}\n",
    "build_from_scratch = False\n",
    "\n",
    "volume_test_cache = Cache('volume_test_set')\n",
    "if build_from_scratch:\n",
    "    build_volume_cache(volume_test_cache, '../../OCT-DL/Data/test/control', LABELS['HEALTHY'])\n",
    "    build_volume_cache(volume_test_cache, '../../OCT-DL/Data/test/study', LABELS['SICK'])\n",
    "\n",
    "volume_train_cache = Cache('volume_train_set')\n",
    "if build_from_scratch:\n",
    "    build_volume_cache(volume_train_cache, '../../OCT-DL/Data/train/control', LABELS['HEALTHY'])\n",
    "    build_volume_cache(volume_train_cache, '../../OCT-DL/Data/train/study', LABELS['SICK'])\n",
    "\n",
    "volume_validation_cache = Cache('volume_validation_set')\n",
    "if build_from_scratch:\n",
    "    build_volume_cache(volume_validation_cache, '../../OCT-DL/Data/validation/control', LABELS['HEALTHY'])\n",
    "    build_volume_cache(volume_validation_cache, '../../OCT-DL/Data/validation/study', LABELS['SICK'])\n",
    "\n",
    "if build_from_scratch:\n",
    "    print('Built tile dataset.')\n",
    "else:\n",
    "    print('Loaded tile dataset.')"
   ]
  },
  {
   "cell_type": "markdown",
   "metadata": {},
   "source": [
    "# Load SliverNet"
   ]
  },
  {
   "cell_type": "code",
   "execution_count": 5,
   "metadata": {
    "pycharm": {
     "name": "#%% Load SliverNet and fine-tune on OUR dataset\n"
    }
   },
   "outputs": [
    {
     "name": "stdout",
     "output_type": "stream",
     "text": [
      "Loading sgvdan-kermany model\n",
      "SliverNet model Loaded!\n"
     ]
    }
   ],
   "source": [
    "from tqdm.asyncio import tqdm\n",
    "from playground.cache import Cache\n",
    "from sliver_net.model import load_backbone\n",
    "from sliver_net.model import SliverNet2\n",
    "\n",
    "volume_train_cache = Cache('volume_train_set')\n",
    "tile_train_dataset = E2ETileDataset(volume_train_cache, transform=resize_transform)\n",
    "tile_train_loader = torch.utils.data.DataLoader(dataset=tile_train_dataset, batch_size=1, shuffle=True)\n",
    "\n",
    "volume_validation_cache = Cache('volume_validation_set')\n",
    "tile_validation_dataset = E2ETileDataset(volume_validation_cache, transform=resize_transform)\n",
    "tile_validation_loader = torch.utils.data.DataLoader(dataset=tile_validation_dataset, batch_size=1, shuffle=True)\n",
    "\n",
    "# Load Model\n",
    "backbone = load_backbone(\"sgvdan-kermany\").cuda() # randomly initialize a resnet18 backbone\n",
    "sliver_model = SliverNet2(backbone, n_out=2).cuda() # create SLIVER-Net with n_out outputs\n",
    "\n",
    "print('SliverNet model Loaded!')"
   ]
  },
  {
   "cell_type": "markdown",
   "metadata": {},
   "source": [
    "## Fine Tune last bit of SliverNet on Hadassah tile training set"
   ]
  },
  {
   "cell_type": "code",
   "execution_count": 6,
   "metadata": {
    "pycharm": {
     "name": "#%%\n"
    }
   },
   "outputs": [
    {
     "name": "stdout",
     "output_type": "stream",
     "text": [
      "Fine tune on last bit of SliverNet for epochs=3\n"
     ]
    },
    {
     "name": "stderr",
     "output_type": "stream",
     "text": [
      "100%|██████████| 3/3 [15:02<00:00, 300.85s/it]\n"
     ]
    }
   ],
   "source": [
    "# First: fine tune on everything but the backbone\n",
    "epochs = 3\n",
    "print('Fine tune on last bit of SliverNet for epochs={epochs}'.format(epochs=epochs))\n",
    "for param in sliver_model.backbone.parameters():\n",
    "    param.requires_grad = False\n",
    "optimizer = torch.optim.Adam(sliver_model.parameters(), lr=1e-4)\n",
    "train(sliver_model, sliver_model.loss_func, optimizer, tile_train_loader, tile_validation_loader, epochs, 'cuda', 'SliverNet/partial')"
   ]
  },
  {
   "cell_type": "markdown",
   "metadata": {},
   "source": [
    "## Fine Tune whole of SliverNet on Hadassah tile training set"
   ]
  },
  {
   "cell_type": "code",
   "execution_count": 7,
   "metadata": {
    "pycharm": {
     "name": "#%%\n"
    }
   },
   "outputs": [
    {
     "name": "stdout",
     "output_type": "stream",
     "text": [
      "Fine tune on whole of SliverNet for epochs=3\n"
     ]
    },
    {
     "name": "stderr",
     "output_type": "stream",
     "text": [
      "100%|██████████| 3/3 [16:57<00:00, 339.10s/it]\n"
     ]
    }
   ],
   "source": [
    "epochs = 3\n",
    "print('Fine tune on whole of SliverNet for epochs={epochs}'.format(epochs=epochs))\n",
    "for param in sliver_model.backbone.parameters():\n",
    "    param.requires_grad = True\n",
    "optimizer = torch.optim.Adam(sliver_model.parameters(), lr=1e-5)\n",
    "train(sliver_model, sliver_model.loss_func, optimizer, tile_train_loader, tile_validation_loader, epochs, 'cuda', 'SliverNet/full')"
   ]
  },
  {
   "cell_type": "code",
   "execution_count": 8,
   "metadata": {
    "pycharm": {
     "name": "#%%\n"
    }
   },
   "outputs": [
    {
     "name": "stdout",
     "output_type": "stream",
     "text": [
      "Done. Saved model: ./tmp_model.pth\n"
     ]
    }
   ],
   "source": [
    "# Save model\n",
    "tmp_model_name = './tmp_model.pth'\n",
    "torch.save({\"model_state_dict\": sliver_model.state_dict(),\n",
    "            \"optimizer_state_dict\": optimizer.state_dict()\n",
    "            }, tmp_model_name)\n",
    "print('Done. Saved model: {}'.format(tmp_model_name))"
   ]
  },
  {
   "cell_type": "markdown",
   "metadata": {},
   "source": [
    "## Evaluate on Hadassah tile test set"
   ]
  },
  {
   "cell_type": "code",
   "execution_count": 9,
   "metadata": {
    "pycharm": {
     "name": "#%% Last: evaluate on OUR test set\n"
    }
   },
   "outputs": [
    {
     "name": "stderr",
     "output_type": "stream",
     "text": [
      "100%|██████████| 116/116 [00:31<00:00,  3.68it/s]"
     ]
    },
    {
     "name": "stdout",
     "output_type": "stream",
     "text": [
      "Evaluated on Test Set. Accuracy: 0.91\n"
     ]
    },
    {
     "name": "stderr",
     "output_type": "stream",
     "text": [
      "\n"
     ]
    }
   ],
   "source": [
    "tile_test_dataset = E2ETileDataset(volume_test_cache, transform=resize_transform)\n",
    "tile_test_loader = torch.utils.data.DataLoader(dataset=tile_test_dataset, batch_size=1, shuffle=True)\n",
    "\n",
    "running_test_accuracy = 0.0\n",
    "for test_images, test_labels in tqdm(tile_test_loader):\n",
    "    # test accuracy of batch\n",
    "    _, accuracy = train_loop(model=sliver_model, criterion=sliver_model.loss_func, optimizer=optimizer, device='cuda',\n",
    "                             images=test_images, labels=test_labels, mode='eval')\n",
    "    running_test_accuracy += accuracy\n",
    "\n",
    "test_accuracy = round(running_test_accuracy/len(tile_test_loader), 2)\n",
    "print(\"Evaluated on Test Set. Accuracy: {}\".format(test_accuracy))\n",
    "wandb.log({'SliverNet/Test/accuracy': test_accuracy})\n"
   ]
  }
 ],
 "metadata": {
  "kernelspec": {
   "display_name": "Python 3 (ipykernel)",
   "language": "python",
   "name": "python3"
  },
  "language_info": {
   "codemirror_mode": {
    "name": "ipython",
    "version": 3
   },
   "file_extension": ".py",
   "mimetype": "text/x-python",
   "name": "python",
   "nbconvert_exporter": "python",
   "pygments_lexer": "ipython3",
   "version": "3.9.7"
  }
 },
 "nbformat": 4,
 "nbformat_minor": 1
}