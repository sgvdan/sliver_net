{
 "cells": [
  {
   "cell_type": "markdown",
   "metadata": {
    "pycharm": {
     "name": "#%% md\n"
    }
   },
   "source": [
    "# Generate ResNet18 Kermany Pretrained"
   ]
  },
  {
   "cell_type": "markdown",
   "metadata": {
    "pycharm": {
     "name": "#%% md\n"
    }
   },
   "source": [
    "## Init"
   ]
  },
  {
   "cell_type": "code",
   "execution_count": 18,
   "metadata": {
    "pycharm": {
     "name": "#%% Init\n"
    }
   },
   "outputs": [
    {
     "name": "stderr",
     "output_type": "stream",
     "text": [
      "\u001b[34m\u001b[1mwandb\u001b[0m: \u001b[33mWARNING\u001b[0m Calling wandb.login() after wandb.init() has no effect.\n"
     ]
    },
    {
     "name": "stdout",
     "output_type": "stream",
     "text": [
      "The autoreload extension is already loaded. To reload it, use:\n",
      "  %reload_ext autoreload\n"
     ]
    },
    {
     "data": {
      "text/html": [
       "Finishing last run (ID:3037my2c) before initializing another..."
      ],
      "text/plain": [
       "<IPython.core.display.HTML object>"
      ]
     },
     "metadata": {},
     "output_type": "display_data"
    },
    {
     "data": {
      "text/html": [
       "Successfully finished last run (ID:3037my2c). Initializing new run:<br/>"
      ],
      "text/plain": [
       "<IPython.core.display.HTML object>"
      ]
     },
     "metadata": {},
     "output_type": "display_data"
    },
    {
     "data": {
      "text/html": [
       "\n",
       "                    Syncing run <strong><a href=\"https://wandb.ai/sgvdan/sliver_net-playground/runs/dlt7c1x4\" target=\"_blank\">sandy-galaxy-55</a></strong> to <a href=\"https://wandb.ai/sgvdan/sliver_net-playground\" target=\"_blank\">Weights & Biases</a> (<a href=\"https://docs.wandb.com/integrations/jupyter.html\" target=\"_blank\">docs</a>).<br/>\n",
       "\n",
       "                "
      ],
      "text/plain": [
       "<IPython.core.display.HTML object>"
      ]
     },
     "metadata": {},
     "output_type": "display_data"
    }
   ],
   "source": [
    "# Auto reload\n",
    "%load_ext autoreload\n",
    "%autoreload 2\n",
    "\n",
    "import torch\n",
    "from kermany_data import KermanyDataset\n",
    "import sys\n",
    "sys.path.append('/home/projects/ronen/sgvdan/workspace/sliver_net')\n",
    "\n",
    "import torchvision\n",
    "from train import train, train_loop\n",
    "import wandb\n",
    "from sliver_net.data import build_volume_cache, E2ETileDataset\n",
    "\n",
    "wandb.login()\n",
    "wandb.init()\n",
    "\n",
    "resize_transform = torchvision.transforms.Resize((256, 256))\n",
    "\n",
    "resnet18 = torchvision.models.resnet18(num_classes=4, pretrained=False).cuda()\n",
    "\n",
    "criterion = torch.nn.functional.cross_entropy\n",
    "optimizer = torch.optim.Adam(resnet18.parameters(), lr=1e-4)"
   ]
  },
  {
   "cell_type": "markdown",
   "metadata": {},
   "source": [
    "## Train on Kermany"
   ]
  },
  {
   "cell_type": "code",
   "execution_count": 4,
   "metadata": {
    "pycharm": {
     "name": "#%%\n"
    }
   },
   "outputs": [
    {
     "name": "stderr",
     "output_type": "stream",
     "text": [
      " 14%|██████████████▏                                                                                    | 1/7 [10:04<1:00:25, 604.33s/it]"
     ]
    },
    {
     "name": "stdout",
     "output_type": "stream",
     "text": [
      "Average Accuracy:0.875\n"
     ]
    },
    {
     "name": "stderr",
     "output_type": "stream",
     "text": [
      "\r",
      " 29%|████████████████████████████▊                                                                        | 2/7 [18:04<44:15, 531.07s/it]"
     ]
    },
    {
     "name": "stdout",
     "output_type": "stream",
     "text": [
      "Average Accuracy:0.84375\n"
     ]
    },
    {
     "name": "stderr",
     "output_type": "stream",
     "text": [
      "\r",
      " 43%|███████████████████████████████████████████▎                                                         | 3/7 [26:09<34:00, 510.20s/it]"
     ]
    },
    {
     "name": "stdout",
     "output_type": "stream",
     "text": [
      "Average Accuracy:0.96875\n"
     ]
    },
    {
     "name": "stderr",
     "output_type": "stream",
     "text": [
      "\r",
      " 57%|█████████████████████████████████████████████████████████▋                                           | 4/7 [34:12<24:58, 499.57s/it]"
     ]
    },
    {
     "name": "stdout",
     "output_type": "stream",
     "text": [
      "Average Accuracy:1.0\n"
     ]
    },
    {
     "name": "stderr",
     "output_type": "stream",
     "text": [
      "\r",
      " 71%|████████████████████████████████████████████████████████████████████████▏                            | 5/7 [42:09<16:22, 491.30s/it]"
     ]
    },
    {
     "name": "stdout",
     "output_type": "stream",
     "text": [
      "Average Accuracy:0.96875\n"
     ]
    },
    {
     "name": "stderr",
     "output_type": "stream",
     "text": [
      "\r",
      " 86%|██████████████████████████████████████████████████████████████████████████████████████▌              | 6/7 [50:04<08:05, 485.88s/it]"
     ]
    },
    {
     "name": "stdout",
     "output_type": "stream",
     "text": [
      "Average Accuracy:1.0\n"
     ]
    },
    {
     "name": "stderr",
     "output_type": "stream",
     "text": [
      "100%|█████████████████████████████████████████████████████████████████████████████████████████████████████| 7/7 [58:01<00:00, 497.31s/it]"
     ]
    },
    {
     "name": "stdout",
     "output_type": "stream",
     "text": [
      "Average Accuracy:1.0\n"
     ]
    },
    {
     "name": "stderr",
     "output_type": "stream",
     "text": [
      "\n"
     ]
    },
    {
     "name": "stdout",
     "output_type": "stream",
     "text": [
      "Done Training.\n"
     ]
    }
   ],
   "source": [
    "from kermany_data import KERMANY_LABELS\n",
    "from sliver_net import data\n",
    "data.LABELS = KERMANY_LABELS\n",
    "\n",
    "val_dataset = KermanyDataset('./kermany/val', transform=resize_transform)  # (https://www.kaggle.com/paultimothymooney/kermany2018)\n",
    "val_loader = torch.utils.data.DataLoader(dataset=val_dataset, batch_size=64, shuffle=True)\n",
    "\n",
    "train_dataset = KermanyDataset('./kermany/train', transform=resize_transform)\n",
    "train_loader = torch.utils.data.DataLoader(dataset=train_dataset, batch_size=64, shuffle=True)\n",
    "\n",
    "train(resnet18, criterion, optimizer, train_loader, val_loader, 7, 'cuda', 'ResNet18-Kermany')\n",
    "\n",
    "# Save temporarily, so that the model won't disappear\n",
    "tmp_model_name = './tmp_model.pth'\n",
    "torch.save({\"model_state_dict\": resnet18.state_dict(),\n",
    "            \"optimizer_state_dict\": optimizer.state_dict()\n",
    "            }, tmp_model_name)\n",
    "\n",
    "print('Done Training.')"
   ]
  },
  {
   "cell_type": "markdown",
   "metadata": {},
   "source": [
    "## Evaluate on Kermany"
   ]
  },
  {
   "cell_type": "code",
   "execution_count": 19,
   "metadata": {
    "pycharm": {
     "name": "#%%\n"
    }
   },
   "outputs": [
    {
     "name": "stdout",
     "output_type": "stream",
     "text": [
      "Model to load?:resnet18.pth\n",
      "Average IOU:0.9958846569061279, Accuracy: 0.9979338645935059\n"
     ]
    }
   ],
   "source": [
    "from kermany_data import KERMANY_LABELS\n",
    "from sliver_net import data\n",
    "from train import evaluate\n",
    "data.LABELS = KERMANY_LABELS\n",
    "\n",
    "model_path = input(\"Model to load?:\")\n",
    "states_dict = torch.load(model_path)\n",
    "\n",
    "resnet18.load_state_dict(states_dict['model_state_dict'])\n",
    "optimizer.load_state_dict(states_dict['optimizer_state_dict'])\n",
    "\n",
    "test_dataset = KermanyDataset('./kermany/test', transform=resize_transform)\n",
    "test_loader = torch.utils.data.DataLoader(dataset=test_dataset, batch_size=64, shuffle=True)\n",
    "\n",
    "avg_iou, avg_accuracy = evaluate(resnet18, test_loader, 'Kermany2D/Test', 'cuda')\n",
    "\n",
    "print('Average IOU:{}, Accuracy: {}'.format(avg_iou, avg_accuracy))"
   ]
  },
  {
   "cell_type": "markdown",
   "metadata": {
    "pycharm": {
     "name": "#%% md\n"
    }
   },
   "source": [
    "# Fine-tune on OUR Dataset"
   ]
  },
  {
   "cell_type": "markdown",
   "metadata": {
    "pycharm": {
     "name": "#%% md\n"
    }
   },
   "source": [
    "## Build tile dataset"
   ]
  },
  {
   "cell_type": "code",
   "execution_count": 13,
   "metadata": {
    "pycharm": {
     "name": "#%% Build tile dataset\n"
    }
   },
   "outputs": [
    {
     "name": "stdout",
     "output_type": "stream",
     "text": [
      "Loaded tile dataset.\n"
     ]
    }
   ],
   "source": [
    "from playground.cache import Cache\n",
    "from sliver_net.data import build_volume_cache\n",
    "\n",
    "build_from_scratch = False\n",
    "\n",
    "volume_test_cache = Cache('volume_test_set')\n",
    "if build_from_scratch:\n",
    "    build_volume_cache(volume_test_cache, '../../OCT-DL/Data/test/control', LABELS['HEALTHY'])\n",
    "    build_volume_cache(volume_test_cache, '../../OCT-DL/Data/test/study', LABELS['SICK'])\n",
    "\n",
    "volume_train_cache = Cache('volume_train_set')\n",
    "if build_from_scratch:\n",
    "    build_volume_cache(volume_train_cache, '../../OCT-DL/Data/train/control', LABELS['HEALTHY'])\n",
    "    build_volume_cache(volume_train_cache, '../../OCT-DL/Data/train/study', LABELS['SICK'])\n",
    "\n",
    "volume_validation_cache = Cache('volume_validation_set')\n",
    "if build_from_scratch:\n",
    "    build_volume_cache(volume_validation_cache, '../../OCT-DL/Data/validation/control', LABELS['HEALTHY'])\n",
    "    build_volume_cache(volume_validation_cache, '../../OCT-DL/Data/validation/study', LABELS['SICK'])\n",
    "\n",
    "if build_from_scratch:\n",
    "    print('Built tile dataset.')\n",
    "else:\n",
    "    print('Loaded tile dataset.')"
   ]
  },
  {
   "cell_type": "markdown",
   "metadata": {},
   "source": [
    "# Load SliverNet"
   ]
  },
  {
   "cell_type": "code",
   "execution_count": 14,
   "metadata": {
    "pycharm": {
     "name": "#%% Load SliverNet and fine-tune on OUR dataset\n"
    }
   },
   "outputs": [
    {
     "name": "stdout",
     "output_type": "stream",
     "text": [
      "Loading sgvdan-kermany model\n",
      "SliverNet model Loaded!\n"
     ]
    }
   ],
   "source": [
    "from tqdm.asyncio import tqdm\n",
    "from playground.cache import Cache\n",
    "from sliver_net.model import load_backbone\n",
    "from sliver_net.model import SliverNet2\n",
    "\n",
    "volume_train_cache = Cache('volume_train_set')\n",
    "tile_train_dataset = E2ETileDataset(volume_train_cache, transform=resize_transform)\n",
    "tile_train_loader = torch.utils.data.DataLoader(dataset=tile_train_dataset, batch_size=1, shuffle=True)\n",
    "\n",
    "volume_validation_cache = Cache('volume_validation_set')\n",
    "tile_validation_dataset = E2ETileDataset(volume_validation_cache, transform=resize_transform)\n",
    "tile_validation_loader = torch.utils.data.DataLoader(dataset=tile_validation_dataset, batch_size=1, shuffle=True)\n",
    "\n",
    "# Load Model\n",
    "backbone = load_backbone(\"sgvdan-kermany\").cuda() # randomly initialize a resnet18 backbone\n",
    "sliver_model = SliverNet2(backbone, n_out=2).cuda() # create SLIVER-Net with n_out outputs\n",
    "\n",
    "print('SliverNet model Loaded!')"
   ]
  },
  {
   "cell_type": "markdown",
   "metadata": {},
   "source": [
    "## Fine Tune last bit of SliverNet on Hadassah tile training set"
   ]
  },
  {
   "cell_type": "code",
   "execution_count": 20,
   "metadata": {
    "pycharm": {
     "name": "#%%\n"
    }
   },
   "outputs": [
    {
     "name": "stdout",
     "output_type": "stream",
     "text": [
      "Fine tune on last bit of SliverNet for epochs=3\n"
     ]
    },
    {
     "name": "stderr",
     "output_type": "stream",
     "text": [
      " 33%|█████████████████████████████████▋                                                                   | 1/3 [04:51<09:42, 291.16s/it]"
     ]
    },
    {
     "name": "stdout",
     "output_type": "stream",
     "text": [
      "Average IOU:0.534787118434906, Accuracy:0.6129870414733887\n"
     ]
    },
    {
     "name": "stderr",
     "output_type": "stream",
     "text": [
      "\r",
      " 67%|███████████████████████████████████████████████████████████████████▎                                 | 2/3 [09:48<04:54, 294.52s/it]"
     ]
    },
    {
     "name": "stdout",
     "output_type": "stream",
     "text": [
      "Average IOU:0.3736386299133301, Accuracy:0.737500011920929\n"
     ]
    },
    {
     "name": "stderr",
     "output_type": "stream",
     "text": [
      "100%|█████████████████████████████████████████████████████████████████████████████████████████████████████| 3/3 [14:38<00:00, 292.82s/it]"
     ]
    },
    {
     "name": "stdout",
     "output_type": "stream",
     "text": [
      "Average IOU:0.46190476417541504, Accuracy:0.798214316368103\n"
     ]
    },
    {
     "name": "stderr",
     "output_type": "stream",
     "text": [
      "\n"
     ]
    }
   ],
   "source": [
    "from sliver_net import data\n",
    "data.LABELS = {'HEALTHY': torch.nn.functional.one_hot(torch.tensor(0), 2), 'SICK': torch.nn.functional.one_hot(torch.tensor(1), 2)}\n",
    "\n",
    "# First: fine tune on everything but the backbone\n",
    "epochs = 3\n",
    "print('Fine tune on last bit of SliverNet for epochs={epochs}'.format(epochs=epochs))\n",
    "sliver_model.backbone.eval()\n",
    "for param in sliver_model.backbone.parameters():\n",
    "    param.requires_grad = False\n",
    "optimizer = torch.optim.Adam(sliver_model.parameters(), lr=1e-4)\n",
    "train(sliver_model, sliver_model.loss_func, optimizer, tile_train_loader, tile_validation_loader, epochs, 'cuda', 'SliverNet/partial')"
   ]
  },
  {
   "cell_type": "markdown",
   "metadata": {},
   "source": [
    "## Fine Tune whole of SliverNet on Hadassah tile training set"
   ]
  },
  {
   "cell_type": "code",
   "execution_count": 21,
   "metadata": {
    "pycharm": {
     "name": "#%%\n"
    }
   },
   "outputs": [
    {
     "name": "stdout",
     "output_type": "stream",
     "text": [
      "Fine tune on whole of SliverNet for epochs=3\n"
     ]
    },
    {
     "name": "stderr",
     "output_type": "stream",
     "text": [
      " 33%|█████████████████████████████████▋                                                                   | 1/3 [05:33<11:06, 333.19s/it]"
     ]
    },
    {
     "name": "stdout",
     "output_type": "stream",
     "text": [
      "Average IOU:0.40877658128738403, Accuracy:0.762499988079071\n"
     ]
    },
    {
     "name": "stderr",
     "output_type": "stream",
     "text": [
      "\r",
      " 67%|███████████████████████████████████████████████████████████████████▎                                 | 2/3 [11:11<05:36, 336.31s/it]"
     ]
    },
    {
     "name": "stdout",
     "output_type": "stream",
     "text": [
      "Average IOU:0.5320436358451843, Accuracy:0.8410714268684387\n"
     ]
    },
    {
     "name": "stderr",
     "output_type": "stream",
     "text": [
      "100%|█████████████████████████████████████████████████████████████████████████████████████████████████████| 3/3 [16:35<00:00, 331.90s/it]"
     ]
    },
    {
     "name": "stdout",
     "output_type": "stream",
     "text": [
      "Average IOU:0.5478417277336121, Accuracy:0.8500000238418579\n"
     ]
    },
    {
     "name": "stderr",
     "output_type": "stream",
     "text": [
      "\n"
     ]
    }
   ],
   "source": [
    "from sliver_net import data\n",
    "data.LABELS = {'HEALTHY': torch.nn.functional.one_hot(torch.tensor(0), 2), 'SICK': torch.nn.functional.one_hot(torch.tensor(1), 2)}\n",
    "\n",
    "epochs = 3\n",
    "print('Fine tune on whole of SliverNet for epochs={epochs}'.format(epochs=epochs))\n",
    "sliver_model.backbone.train()\n",
    "for param in sliver_model.backbone.parameters():\n",
    "    param.requires_grad = True\n",
    "optimizer = torch.optim.Adam(sliver_model.parameters(), lr=1e-5)\n",
    "train(sliver_model, sliver_model.loss_func, optimizer, tile_train_loader, tile_validation_loader, epochs, 'cuda', 'SliverNet/full')"
   ]
  },
  {
   "cell_type": "code",
   "execution_count": 22,
   "metadata": {
    "pycharm": {
     "name": "#%%\n"
    }
   },
   "outputs": [
    {
     "name": "stdout",
     "output_type": "stream",
     "text": [
      "Done. Saved model: ./tmp_model.pth\n"
     ]
    }
   ],
   "source": [
    "# Save model\n",
    "tmp_model_name = './tmp_model.pth'\n",
    "torch.save({\"model_state_dict\": sliver_model.state_dict(),\n",
    "            \"optimizer_state_dict\": optimizer.state_dict()\n",
    "            }, tmp_model_name)\n",
    "print('Done. Saved model: {}'.format(tmp_model_name))"
   ]
  },
  {
   "cell_type": "markdown",
   "metadata": {},
   "source": [
    "## Evaluate on Hadassah tile test set"
   ]
  },
  {
   "cell_type": "code",
   "execution_count": 23,
   "metadata": {
    "pycharm": {
     "name": "#%% Last: evaluate on OUR test set\n"
    }
   },
   "outputs": [
    {
     "name": "stdout",
     "output_type": "stream",
     "text": [
      "Average IOU: 0.48679453134536743, Accuracy:0.7415094375610352\n"
     ]
    }
   ],
   "source": [
    "from playground.train import evaluate\n",
    "from sliver_net import data\n",
    "data.LABELS = {'HEALTHY': torch.nn.functional.one_hot(torch.tensor(0), 2), 'SICK': torch.nn.functional.one_hot(torch.tensor(1), 2)}\n",
    "\n",
    "tile_test_dataset = E2ETileDataset(volume_test_cache, transform=resize_transform)\n",
    "tile_test_loader = torch.utils.data.DataLoader(dataset=tile_test_dataset, batch_size=1, shuffle=True)\n",
    "\n",
    "avg_iou, avg_accuracy = evaluate(sliver_model, tile_test_loader, 'SliverNet/Test', device='cuda')\n",
    "print('Average IOU: {}, Accuracy:{}'.format(avg_iou, avg_accuracy))"
   ]
  }
 ],
 "metadata": {
  "kernelspec": {
   "display_name": "Python 3 (ipykernel)",
   "language": "python",
   "name": "python3"
  },
  "language_info": {
   "codemirror_mode": {
    "name": "ipython",
    "version": 3
   },
   "file_extension": ".py",
   "mimetype": "text/x-python",
   "name": "python",
   "nbconvert_exporter": "python",
   "pygments_lexer": "ipython3",
   "version": "3.9.7"
  }
 },
 "nbformat": 4,
 "nbformat_minor": 1
}
